{
 "cells": [
  {
   "cell_type": "markdown",
   "metadata": {},
   "source": [
    "## Introduction\n",
    "\n",
    "This is a jupyter notebook an interactive \"literate\" programming interface/gui. you can read more on what are jupyter notebooks and the basics of working with them in the [tutorial](https://realpython.com/jupyter-notebook-introduction/) one our of many"
   ]
  },
  {
   "cell_type": "code",
   "execution_count": 1,
   "metadata": {},
   "outputs": [
    {
     "name": "stdout",
     "output_type": "stream",
     "text": [
      "Looking in indexes: https://pypi.org/simple, https://repo.fury.io/RJN6sFDizvNyhqzPBvun/idoivri/\n",
      "Requirement already satisfied: pandas in /home/alonisser/.virtualenvs/learn_pande/lib/python3.6/site-packages (0.23.4)\n",
      "Requirement already satisfied: scikit-learn in /home/alonisser/.virtualenvs/learn_pande/lib/python3.6/site-packages (0.22.2.post1)\n",
      "Requirement already satisfied: sklearn in /home/alonisser/.virtualenvs/learn_pande/lib/python3.6/site-packages (0.0)\n",
      "Requirement already satisfied: matplotlib in /home/alonisser/.virtualenvs/learn_pande/lib/python3.6/site-packages (3.0.0)\n",
      "Requirement already satisfied: seaborn in /home/alonisser/.virtualenvs/learn_pande/lib/python3.6/site-packages (0.9.0)\n",
      "Requirement already satisfied: pytz>=2011k in /home/alonisser/.virtualenvs/learn_pande/lib/python3.6/site-packages (from pandas) (2018.5)\n",
      "Requirement already satisfied: python-dateutil>=2.5.0 in /home/alonisser/.virtualenvs/learn_pande/lib/python3.6/site-packages (from pandas) (2.7.3)\n",
      "Requirement already satisfied: numpy>=1.9.0 in /home/alonisser/.virtualenvs/learn_pande/lib/python3.6/site-packages (from pandas) (1.15.2)\n",
      "Requirement already satisfied: joblib>=0.11 in /home/alonisser/.virtualenvs/learn_pande/lib/python3.6/site-packages (from scikit-learn) (0.14.1)\n",
      "Requirement already satisfied: scipy>=0.17.0 in /home/alonisser/.virtualenvs/learn_pande/lib/python3.6/site-packages (from scikit-learn) (1.1.0)\n",
      "Requirement already satisfied: kiwisolver>=1.0.1 in /home/alonisser/.virtualenvs/learn_pande/lib/python3.6/site-packages (from matplotlib) (1.0.1)\n",
      "Requirement already satisfied: pyparsing!=2.0.4,!=2.1.2,!=2.1.6,>=2.0.1 in /home/alonisser/.virtualenvs/learn_pande/lib/python3.6/site-packages (from matplotlib) (2.2.2)\n",
      "Requirement already satisfied: cycler>=0.10 in /home/alonisser/.virtualenvs/learn_pande/lib/python3.6/site-packages (from matplotlib) (0.10.0)\n",
      "Requirement already satisfied: six>=1.5 in /home/alonisser/.virtualenvs/learn_pande/lib/python3.6/site-packages (from python-dateutil>=2.5.0->pandas) (1.11.0)\n",
      "Requirement already satisfied: setuptools in /home/alonisser/.virtualenvs/learn_pande/lib/python3.6/site-packages (from kiwisolver>=1.0.1->matplotlib) (39.1.0)\n",
      "\u001b[33mWARNING: You are using pip version 19.3.1; however, version 20.0.2 is available.\n",
      "You should consider upgrading via the 'pip install --upgrade pip' command.\u001b[0m\n"
     ]
    }
   ],
   "source": [
    "!pip install pandas scikit-learn sklearn matplotlib seaborn\n",
    "# Note: when we need to run a command from the terminal which isn't a pure python command we'll prefix with !"
   ]
  },
  {
   "cell_type": "code",
   "execution_count": 26,
   "metadata": {},
   "outputs": [],
   "source": [
    "import pandas as pd\n",
    "import numpy as np\n",
    "import sklearn\n",
    "import matplotlib.pyplot as plt\n",
    "\n",
    "# from pylab import rcParams\n",
    "from sklearn import preprocessing\n",
    "from sklearn.linear_model import LogisticRegression\n",
    "from sklearn.tree import DecisionTreeClassifier\n",
    "from sklearn.model_selection import train_test_split\n",
    "from sklearn import metrics \n",
    "from sklearn.metrics import classification_report"
   ]
  },
  {
   "cell_type": "code",
   "execution_count": null,
   "metadata": {},
   "outputs": [],
   "source": []
  },
  {
   "cell_type": "code",
   "execution_count": 3,
   "metadata": {},
   "outputs": [],
   "source": [
    "# Pandas has a concept of a dataframe, one can initialize a dataframe from csv/json most other kind of tables. \n",
    "# and yes, from a remote uri that has this data also \n",
    "# df = pd.read_csv(dataset_uri)\n",
    "df = pd.read_csv('./kovid19-korea-processed.csv')"
   ]
  },
  {
   "cell_type": "code",
   "execution_count": 4,
   "metadata": {},
   "outputs": [
    {
     "name": "stdout",
     "output_type": "stream",
     "text": [
      "(2771, 22)\n"
     ]
    },
    {
     "data": {
      "text/html": [
       "<div>\n",
       "<style scoped>\n",
       "    .dataframe tbody tr th:only-of-type {\n",
       "        vertical-align: middle;\n",
       "    }\n",
       "\n",
       "    .dataframe tbody tr th {\n",
       "        vertical-align: top;\n",
       "    }\n",
       "\n",
       "    .dataframe thead th {\n",
       "        text-align: right;\n",
       "    }\n",
       "</style>\n",
       "<table border=\"1\" class=\"dataframe\">\n",
       "  <thead>\n",
       "    <tr style=\"text-align: right;\">\n",
       "      <th></th>\n",
       "      <th>Unnamed: 0</th>\n",
       "      <th>patient_id</th>\n",
       "      <th>global_num</th>\n",
       "      <th>birth_year</th>\n",
       "      <th>age</th>\n",
       "      <th>infection_order</th>\n",
       "      <th>infected_by</th>\n",
       "      <th>contact_number</th>\n",
       "      <th>is_dead</th>\n",
       "    </tr>\n",
       "  </thead>\n",
       "  <tbody>\n",
       "    <tr>\n",
       "      <th>count</th>\n",
       "      <td>2771.000000</td>\n",
       "      <td>2.771000e+03</td>\n",
       "      <td>1664.000000</td>\n",
       "      <td>2414.000000</td>\n",
       "      <td>2414.000000</td>\n",
       "      <td>31.000000</td>\n",
       "      <td>6.500000e+02</td>\n",
       "      <td>517.000000</td>\n",
       "      <td>2771.000000</td>\n",
       "    </tr>\n",
       "    <tr>\n",
       "      <th>mean</th>\n",
       "      <td>1385.000000</td>\n",
       "      <td>3.748468e+09</td>\n",
       "      <td>5558.304087</td>\n",
       "      <td>1974.374896</td>\n",
       "      <td>45.625104</td>\n",
       "      <td>2.387097</td>\n",
       "      <td>2.647075e+09</td>\n",
       "      <td>20.849130</td>\n",
       "      <td>0.019127</td>\n",
       "    </tr>\n",
       "    <tr>\n",
       "      <th>std</th>\n",
       "      <td>800.063123</td>\n",
       "      <td>2.209410e+09</td>\n",
       "      <td>3142.434246</td>\n",
       "      <td>20.284689</td>\n",
       "      <td>20.284689</td>\n",
       "      <td>1.453213</td>\n",
       "      <td>1.687647e+09</td>\n",
       "      <td>81.595859</td>\n",
       "      <td>0.136995</td>\n",
       "    </tr>\n",
       "    <tr>\n",
       "      <th>min</th>\n",
       "      <td>0.000000</td>\n",
       "      <td>1.000000e+09</td>\n",
       "      <td>1.000000</td>\n",
       "      <td>1916.000000</td>\n",
       "      <td>0.000000</td>\n",
       "      <td>1.000000</td>\n",
       "      <td>1.000000e+09</td>\n",
       "      <td>0.000000</td>\n",
       "      <td>0.000000</td>\n",
       "    </tr>\n",
       "    <tr>\n",
       "      <th>25%</th>\n",
       "      <td>692.500000</td>\n",
       "      <td>1.400000e+09</td>\n",
       "      <td>2693.500000</td>\n",
       "      <td>1960.000000</td>\n",
       "      <td>27.000000</td>\n",
       "      <td>1.000000</td>\n",
       "      <td>1.200000e+09</td>\n",
       "      <td>2.000000</td>\n",
       "      <td>0.000000</td>\n",
       "    </tr>\n",
       "    <tr>\n",
       "      <th>50%</th>\n",
       "      <td>1385.000000</td>\n",
       "      <td>4.100000e+09</td>\n",
       "      <td>6344.500000</td>\n",
       "      <td>1974.000000</td>\n",
       "      <td>46.000000</td>\n",
       "      <td>2.000000</td>\n",
       "      <td>2.000000e+09</td>\n",
       "      <td>5.000000</td>\n",
       "      <td>0.000000</td>\n",
       "    </tr>\n",
       "    <tr>\n",
       "      <th>75%</th>\n",
       "      <td>2077.500000</td>\n",
       "      <td>6.001001e+09</td>\n",
       "      <td>8268.250000</td>\n",
       "      <td>1993.000000</td>\n",
       "      <td>60.000000</td>\n",
       "      <td>3.000000</td>\n",
       "      <td>4.100000e+09</td>\n",
       "      <td>15.000000</td>\n",
       "      <td>0.000000</td>\n",
       "    </tr>\n",
       "    <tr>\n",
       "      <th>max</th>\n",
       "      <td>2770.000000</td>\n",
       "      <td>7.000000e+09</td>\n",
       "      <td>9652.000000</td>\n",
       "      <td>2020.000000</td>\n",
       "      <td>104.000000</td>\n",
       "      <td>6.000000</td>\n",
       "      <td>6.100000e+09</td>\n",
       "      <td>1160.000000</td>\n",
       "      <td>1.000000</td>\n",
       "    </tr>\n",
       "  </tbody>\n",
       "</table>\n",
       "</div>"
      ],
      "text/plain": [
       "        Unnamed: 0    patient_id   global_num   birth_year          age  \\\n",
       "count  2771.000000  2.771000e+03  1664.000000  2414.000000  2414.000000   \n",
       "mean   1385.000000  3.748468e+09  5558.304087  1974.374896    45.625104   \n",
       "std     800.063123  2.209410e+09  3142.434246    20.284689    20.284689   \n",
       "min       0.000000  1.000000e+09     1.000000  1916.000000     0.000000   \n",
       "25%     692.500000  1.400000e+09  2693.500000  1960.000000    27.000000   \n",
       "50%    1385.000000  4.100000e+09  6344.500000  1974.000000    46.000000   \n",
       "75%    2077.500000  6.001001e+09  8268.250000  1993.000000    60.000000   \n",
       "max    2770.000000  7.000000e+09  9652.000000  2020.000000   104.000000   \n",
       "\n",
       "       infection_order   infected_by  contact_number      is_dead  \n",
       "count        31.000000  6.500000e+02      517.000000  2771.000000  \n",
       "mean          2.387097  2.647075e+09       20.849130     0.019127  \n",
       "std           1.453213  1.687647e+09       81.595859     0.136995  \n",
       "min           1.000000  1.000000e+09        0.000000     0.000000  \n",
       "25%           1.000000  1.200000e+09        2.000000     0.000000  \n",
       "50%           2.000000  2.000000e+09        5.000000     0.000000  \n",
       "75%           3.000000  4.100000e+09       15.000000     0.000000  \n",
       "max           6.000000  6.100000e+09     1160.000000     1.000000  "
      ]
     },
     "execution_count": 4,
     "metadata": {},
     "output_type": "execute_result"
    }
   ],
   "source": [
    "# Pandas is built for exploring datasets, Lets take a look\n",
    "print(df.shape)\n",
    "df.describe()"
   ]
  },
  {
   "cell_type": "code",
   "execution_count": 5,
   "metadata": {},
   "outputs": [
    {
     "data": {
      "text/html": [
       "<div>\n",
       "<style scoped>\n",
       "    .dataframe tbody tr th:only-of-type {\n",
       "        vertical-align: middle;\n",
       "    }\n",
       "\n",
       "    .dataframe tbody tr th {\n",
       "        vertical-align: top;\n",
       "    }\n",
       "\n",
       "    .dataframe thead th {\n",
       "        text-align: right;\n",
       "    }\n",
       "</style>\n",
       "<table border=\"1\" class=\"dataframe\">\n",
       "  <thead>\n",
       "    <tr style=\"text-align: right;\">\n",
       "      <th></th>\n",
       "      <th>Unnamed: 0</th>\n",
       "      <th>patient_id</th>\n",
       "      <th>global_num</th>\n",
       "      <th>sex</th>\n",
       "      <th>birth_year</th>\n",
       "      <th>age</th>\n",
       "      <th>country</th>\n",
       "      <th>province</th>\n",
       "      <th>city</th>\n",
       "      <th>disease</th>\n",
       "      <th>...</th>\n",
       "      <th>infected_by</th>\n",
       "      <th>contact_number</th>\n",
       "      <th>symptom_onset_date</th>\n",
       "      <th>confirmed_date</th>\n",
       "      <th>released_date</th>\n",
       "      <th>deceased_date</th>\n",
       "      <th>state</th>\n",
       "      <th>infection_place</th>\n",
       "      <th>age_group</th>\n",
       "      <th>is_dead</th>\n",
       "    </tr>\n",
       "  </thead>\n",
       "  <tbody>\n",
       "    <tr>\n",
       "      <th>0</th>\n",
       "      <td>0</td>\n",
       "      <td>1000000001</td>\n",
       "      <td>2.0</td>\n",
       "      <td>male</td>\n",
       "      <td>1964.0</td>\n",
       "      <td>56.0</td>\n",
       "      <td>Korea</td>\n",
       "      <td>Seoul</td>\n",
       "      <td>Gangseo-gu</td>\n",
       "      <td>NaN</td>\n",
       "      <td>...</td>\n",
       "      <td>NaN</td>\n",
       "      <td>75.0</td>\n",
       "      <td>2020-01-22</td>\n",
       "      <td>2020-01-23</td>\n",
       "      <td>2020-02-05</td>\n",
       "      <td>NaN</td>\n",
       "      <td>released</td>\n",
       "      <td>Abroad</td>\n",
       "      <td>(51, 60)</td>\n",
       "      <td>0</td>\n",
       "    </tr>\n",
       "    <tr>\n",
       "      <th>1</th>\n",
       "      <td>1</td>\n",
       "      <td>1000000002</td>\n",
       "      <td>5.0</td>\n",
       "      <td>male</td>\n",
       "      <td>1987.0</td>\n",
       "      <td>33.0</td>\n",
       "      <td>Korea</td>\n",
       "      <td>Seoul</td>\n",
       "      <td>Jungnang-gu</td>\n",
       "      <td>NaN</td>\n",
       "      <td>...</td>\n",
       "      <td>NaN</td>\n",
       "      <td>31.0</td>\n",
       "      <td>NaN</td>\n",
       "      <td>2020-01-30</td>\n",
       "      <td>2020-03-02</td>\n",
       "      <td>NaN</td>\n",
       "      <td>released</td>\n",
       "      <td>Abroad</td>\n",
       "      <td>(31, 40)</td>\n",
       "      <td>0</td>\n",
       "    </tr>\n",
       "    <tr>\n",
       "      <th>2</th>\n",
       "      <td>2</td>\n",
       "      <td>1000000003</td>\n",
       "      <td>6.0</td>\n",
       "      <td>male</td>\n",
       "      <td>1964.0</td>\n",
       "      <td>56.0</td>\n",
       "      <td>Korea</td>\n",
       "      <td>Seoul</td>\n",
       "      <td>Jongno-gu</td>\n",
       "      <td>NaN</td>\n",
       "      <td>...</td>\n",
       "      <td>2.002000e+09</td>\n",
       "      <td>17.0</td>\n",
       "      <td>NaN</td>\n",
       "      <td>2020-01-30</td>\n",
       "      <td>2020-02-19</td>\n",
       "      <td>NaN</td>\n",
       "      <td>released</td>\n",
       "      <td>Domestic</td>\n",
       "      <td>(51, 60)</td>\n",
       "      <td>0</td>\n",
       "    </tr>\n",
       "    <tr>\n",
       "      <th>3</th>\n",
       "      <td>3</td>\n",
       "      <td>1000000004</td>\n",
       "      <td>7.0</td>\n",
       "      <td>male</td>\n",
       "      <td>1991.0</td>\n",
       "      <td>29.0</td>\n",
       "      <td>Korea</td>\n",
       "      <td>Seoul</td>\n",
       "      <td>Mapo-gu</td>\n",
       "      <td>NaN</td>\n",
       "      <td>...</td>\n",
       "      <td>NaN</td>\n",
       "      <td>9.0</td>\n",
       "      <td>2020-01-26</td>\n",
       "      <td>2020-01-30</td>\n",
       "      <td>2020-02-15</td>\n",
       "      <td>NaN</td>\n",
       "      <td>released</td>\n",
       "      <td>Abroad</td>\n",
       "      <td>(21, 30)</td>\n",
       "      <td>0</td>\n",
       "    </tr>\n",
       "    <tr>\n",
       "      <th>4</th>\n",
       "      <td>4</td>\n",
       "      <td>1000000005</td>\n",
       "      <td>9.0</td>\n",
       "      <td>female</td>\n",
       "      <td>1992.0</td>\n",
       "      <td>28.0</td>\n",
       "      <td>Korea</td>\n",
       "      <td>Seoul</td>\n",
       "      <td>Seongbuk-gu</td>\n",
       "      <td>NaN</td>\n",
       "      <td>...</td>\n",
       "      <td>1.000000e+09</td>\n",
       "      <td>2.0</td>\n",
       "      <td>NaN</td>\n",
       "      <td>2020-01-31</td>\n",
       "      <td>2020-02-24</td>\n",
       "      <td>NaN</td>\n",
       "      <td>released</td>\n",
       "      <td>Domestic</td>\n",
       "      <td>(21, 30)</td>\n",
       "      <td>0</td>\n",
       "    </tr>\n",
       "    <tr>\n",
       "      <th>5</th>\n",
       "      <td>5</td>\n",
       "      <td>1000000006</td>\n",
       "      <td>10.0</td>\n",
       "      <td>female</td>\n",
       "      <td>1966.0</td>\n",
       "      <td>54.0</td>\n",
       "      <td>Korea</td>\n",
       "      <td>Seoul</td>\n",
       "      <td>Jongno-gu</td>\n",
       "      <td>NaN</td>\n",
       "      <td>...</td>\n",
       "      <td>1.000000e+09</td>\n",
       "      <td>43.0</td>\n",
       "      <td>NaN</td>\n",
       "      <td>2020-01-31</td>\n",
       "      <td>2020-02-19</td>\n",
       "      <td>NaN</td>\n",
       "      <td>released</td>\n",
       "      <td>Domestic</td>\n",
       "      <td>(51, 60)</td>\n",
       "      <td>0</td>\n",
       "    </tr>\n",
       "    <tr>\n",
       "      <th>6</th>\n",
       "      <td>6</td>\n",
       "      <td>1000000007</td>\n",
       "      <td>11.0</td>\n",
       "      <td>male</td>\n",
       "      <td>1995.0</td>\n",
       "      <td>25.0</td>\n",
       "      <td>Korea</td>\n",
       "      <td>Seoul</td>\n",
       "      <td>Jongno-gu</td>\n",
       "      <td>NaN</td>\n",
       "      <td>...</td>\n",
       "      <td>1.000000e+09</td>\n",
       "      <td>0.0</td>\n",
       "      <td>NaN</td>\n",
       "      <td>2020-01-31</td>\n",
       "      <td>2020-02-10</td>\n",
       "      <td>NaN</td>\n",
       "      <td>released</td>\n",
       "      <td>Domestic</td>\n",
       "      <td>(21, 30)</td>\n",
       "      <td>0</td>\n",
       "    </tr>\n",
       "    <tr>\n",
       "      <th>7</th>\n",
       "      <td>7</td>\n",
       "      <td>1000000008</td>\n",
       "      <td>13.0</td>\n",
       "      <td>male</td>\n",
       "      <td>1992.0</td>\n",
       "      <td>28.0</td>\n",
       "      <td>Korea</td>\n",
       "      <td>Seoul</td>\n",
       "      <td>etc</td>\n",
       "      <td>NaN</td>\n",
       "      <td>...</td>\n",
       "      <td>NaN</td>\n",
       "      <td>0.0</td>\n",
       "      <td>NaN</td>\n",
       "      <td>2020-02-02</td>\n",
       "      <td>2020-02-24</td>\n",
       "      <td>NaN</td>\n",
       "      <td>released</td>\n",
       "      <td>Abroad</td>\n",
       "      <td>(21, 30)</td>\n",
       "      <td>0</td>\n",
       "    </tr>\n",
       "    <tr>\n",
       "      <th>8</th>\n",
       "      <td>8</td>\n",
       "      <td>1000000009</td>\n",
       "      <td>19.0</td>\n",
       "      <td>male</td>\n",
       "      <td>1983.0</td>\n",
       "      <td>37.0</td>\n",
       "      <td>Korea</td>\n",
       "      <td>Seoul</td>\n",
       "      <td>Songpa-gu</td>\n",
       "      <td>NaN</td>\n",
       "      <td>...</td>\n",
       "      <td>NaN</td>\n",
       "      <td>68.0</td>\n",
       "      <td>NaN</td>\n",
       "      <td>2020-02-05</td>\n",
       "      <td>2020-02-21</td>\n",
       "      <td>NaN</td>\n",
       "      <td>released</td>\n",
       "      <td>Abroad</td>\n",
       "      <td>(31, 40)</td>\n",
       "      <td>0</td>\n",
       "    </tr>\n",
       "    <tr>\n",
       "      <th>9</th>\n",
       "      <td>9</td>\n",
       "      <td>1000000010</td>\n",
       "      <td>21.0</td>\n",
       "      <td>female</td>\n",
       "      <td>1960.0</td>\n",
       "      <td>60.0</td>\n",
       "      <td>Korea</td>\n",
       "      <td>Seoul</td>\n",
       "      <td>Seongbuk-gu</td>\n",
       "      <td>NaN</td>\n",
       "      <td>...</td>\n",
       "      <td>1.000000e+09</td>\n",
       "      <td>6.0</td>\n",
       "      <td>NaN</td>\n",
       "      <td>2020-02-05</td>\n",
       "      <td>2020-02-29</td>\n",
       "      <td>NaN</td>\n",
       "      <td>released</td>\n",
       "      <td>Domestic</td>\n",
       "      <td>(61, 70)</td>\n",
       "      <td>0</td>\n",
       "    </tr>\n",
       "  </tbody>\n",
       "</table>\n",
       "<p>10 rows × 22 columns</p>\n",
       "</div>"
      ],
      "text/plain": [
       "   Unnamed: 0  patient_id  global_num     sex  birth_year   age country  \\\n",
       "0           0  1000000001         2.0    male      1964.0  56.0   Korea   \n",
       "1           1  1000000002         5.0    male      1987.0  33.0   Korea   \n",
       "2           2  1000000003         6.0    male      1964.0  56.0   Korea   \n",
       "3           3  1000000004         7.0    male      1991.0  29.0   Korea   \n",
       "4           4  1000000005         9.0  female      1992.0  28.0   Korea   \n",
       "5           5  1000000006        10.0  female      1966.0  54.0   Korea   \n",
       "6           6  1000000007        11.0    male      1995.0  25.0   Korea   \n",
       "7           7  1000000008        13.0    male      1992.0  28.0   Korea   \n",
       "8           8  1000000009        19.0    male      1983.0  37.0   Korea   \n",
       "9           9  1000000010        21.0  female      1960.0  60.0   Korea   \n",
       "\n",
       "  province         city disease   ...     infected_by  contact_number  \\\n",
       "0    Seoul   Gangseo-gu     NaN   ...             NaN            75.0   \n",
       "1    Seoul  Jungnang-gu     NaN   ...             NaN            31.0   \n",
       "2    Seoul    Jongno-gu     NaN   ...    2.002000e+09            17.0   \n",
       "3    Seoul      Mapo-gu     NaN   ...             NaN             9.0   \n",
       "4    Seoul  Seongbuk-gu     NaN   ...    1.000000e+09             2.0   \n",
       "5    Seoul    Jongno-gu     NaN   ...    1.000000e+09            43.0   \n",
       "6    Seoul    Jongno-gu     NaN   ...    1.000000e+09             0.0   \n",
       "7    Seoul          etc     NaN   ...             NaN             0.0   \n",
       "8    Seoul    Songpa-gu     NaN   ...             NaN            68.0   \n",
       "9    Seoul  Seongbuk-gu     NaN   ...    1.000000e+09             6.0   \n",
       "\n",
       "   symptom_onset_date  confirmed_date released_date deceased_date     state  \\\n",
       "0          2020-01-22      2020-01-23    2020-02-05           NaN  released   \n",
       "1                 NaN      2020-01-30    2020-03-02           NaN  released   \n",
       "2                 NaN      2020-01-30    2020-02-19           NaN  released   \n",
       "3          2020-01-26      2020-01-30    2020-02-15           NaN  released   \n",
       "4                 NaN      2020-01-31    2020-02-24           NaN  released   \n",
       "5                 NaN      2020-01-31    2020-02-19           NaN  released   \n",
       "6                 NaN      2020-01-31    2020-02-10           NaN  released   \n",
       "7                 NaN      2020-02-02    2020-02-24           NaN  released   \n",
       "8                 NaN      2020-02-05    2020-02-21           NaN  released   \n",
       "9                 NaN      2020-02-05    2020-02-29           NaN  released   \n",
       "\n",
       "  infection_place age_group is_dead  \n",
       "0          Abroad  (51, 60)       0  \n",
       "1          Abroad  (31, 40)       0  \n",
       "2        Domestic  (51, 60)       0  \n",
       "3          Abroad  (21, 30)       0  \n",
       "4        Domestic  (21, 30)       0  \n",
       "5        Domestic  (51, 60)       0  \n",
       "6        Domestic  (21, 30)       0  \n",
       "7          Abroad  (21, 30)       0  \n",
       "8          Abroad  (31, 40)       0  \n",
       "9        Domestic  (61, 70)       0  \n",
       "\n",
       "[10 rows x 22 columns]"
      ]
     },
     "execution_count": 5,
     "metadata": {},
     "output_type": "execute_result"
    }
   ],
   "source": [
    "# Also we can take a peek inside\n",
    "df.head(10)"
   ]
  },
  {
   "cell_type": "markdown",
   "metadata": {},
   "source": [
    "### Feeding the  predictor\n",
    "#### Who by fire and who by sword\n",
    "\n",
    "* We would like to use only relevant stuff\n",
    "\n",
    "* So we'll clean the df from less relevant columns and focus on city, sex, age, infection_place"
   ]
  },
  {
   "cell_type": "code",
   "execution_count": 6,
   "metadata": {},
   "outputs": [],
   "source": [
    "# Here we copy only relevant columns from the df\n",
    "# We've added province here.. because it might be useful is city has a too big variance\n",
    "cleaned_df = df[['is_dead','age','sex','city','infection_place', 'province']]"
   ]
  },
  {
   "cell_type": "code",
   "execution_count": 7,
   "metadata": {},
   "outputs": [
    {
     "name": "stdout",
     "output_type": "stream",
     "text": [
      "<class 'pandas.core.frame.DataFrame'>\n",
      "RangeIndex: 2771 entries, 0 to 2770\n",
      "Data columns (total 6 columns):\n",
      "is_dead            2771 non-null int64\n",
      "age                2414 non-null float64\n",
      "sex                2765 non-null object\n",
      "city               2703 non-null object\n",
      "infection_place    2771 non-null object\n",
      "province           2771 non-null object\n",
      "dtypes: float64(1), int64(1), object(4)\n",
      "memory usage: 130.0+ KB\n"
     ]
    }
   ],
   "source": [
    "cleaned_df.info()"
   ]
  },
  {
   "cell_type": "code",
   "execution_count": 8,
   "metadata": {},
   "outputs": [
    {
     "name": "stdout",
     "output_type": "stream",
     "text": [
      "<class 'pandas.core.frame.DataFrame'>\n",
      "Int64Index: 2369 entries, 0 to 2768\n",
      "Data columns (total 6 columns):\n",
      "is_dead            2369 non-null int64\n",
      "age                2369 non-null float64\n",
      "sex                2369 non-null object\n",
      "city               2369 non-null object\n",
      "infection_place    2369 non-null object\n",
      "province           2369 non-null object\n",
      "dtypes: float64(1), int64(1), object(4)\n",
      "memory usage: 129.6+ KB\n"
     ]
    }
   ],
   "source": [
    "# For the regressor to work we'll clean out the rows with missing data\n",
    "cleaned_df = cleaned_df[cleaned_df.age.notnull()]\n",
    "cleaned_df = cleaned_df[cleaned_df.city.notnull()]\n",
    "cleaned_df = cleaned_df[cleaned_df.sex.notnull()]\n",
    "# Note: that sometimes, we'll try to fill the missing data instead\n",
    "cleaned_df.info()\n",
    "# To verify that all columns have the same number of rows"
   ]
  },
  {
   "cell_type": "markdown",
   "metadata": {},
   "source": [
    "### Massaging the data to numbers\n",
    "\n",
    "* Before we can actually run a model on it in needs to be numbers, so we'll turn some things into boolean numbers\n",
    "\n",
    "* We can see on the info above that lot's of colums are not int/float type so we'll try to work with them\n",
    "\n",
    "* City might be tricky, we'll see the variance first"
   ]
  },
  {
   "cell_type": "code",
   "execution_count": 9,
   "metadata": {},
   "outputs": [],
   "source": [
    "def is_male(sex):\n",
    "    \n",
    "    if sex.lower() == 'male':\n",
    "        return 1\n",
    "    return 0\n",
    "    \n",
    "cleaned_df['is_male'] = cleaned_df.sex.apply(is_male)\n",
    "cleaned_df = cleaned_df.drop(['sex'], axis=1)"
   ]
  },
  {
   "cell_type": "code",
   "execution_count": 10,
   "metadata": {},
   "outputs": [
    {
     "data": {
      "text/plain": [
       "Abroad      931\n",
       "UnKnown     757\n",
       "Domestic    681\n",
       "Name: infection_place, dtype: int64"
      ]
     },
     "execution_count": 10,
     "metadata": {},
     "output_type": "execute_result"
    }
   ],
   "source": [
    "# I think Infection place is also practicaly a boolean so we can apply the same trick\n",
    "# But let's check the variance first\n",
    "cleaned_df.infection_place.value_counts()"
   ]
  },
  {
   "cell_type": "code",
   "execution_count": 11,
   "metadata": {},
   "outputs": [],
   "source": [
    "# Ok, so it unknown is pretty big, maybe it doesn't matter match\n",
    "# While there are other techniques for now I'll drop it"
   ]
  },
  {
   "cell_type": "code",
   "execution_count": 12,
   "metadata": {},
   "outputs": [],
   "source": [
    "cleaned_df = cleaned_df.drop(['infection_place'], axis=1)"
   ]
  },
  {
   "cell_type": "code",
   "execution_count": 13,
   "metadata": {},
   "outputs": [
    {
     "name": "stdout",
     "output_type": "stream",
     "text": [
      "<class 'pandas.core.frame.DataFrame'>\n",
      "Int64Index: 2369 entries, 0 to 2768\n",
      "Data columns (total 5 columns):\n",
      "is_dead     2369 non-null int64\n",
      "age         2369 non-null float64\n",
      "city        2369 non-null object\n",
      "province    2369 non-null object\n",
      "is_male     2369 non-null int64\n",
      "dtypes: float64(1), int64(2), object(2)\n",
      "memory usage: 111.0+ KB\n"
     ]
    }
   ],
   "source": [
    "# Let's look what we got now\n",
    "cleaned_df.info()"
   ]
  },
  {
   "cell_type": "code",
   "execution_count": 14,
   "metadata": {},
   "outputs": [
    {
     "data": {
      "text/plain": [
       "Gyeongsan-si       614\n",
       "Seongnam-si        109\n",
       "Cheonan-si         102\n",
       "Bonghwa-gun         70\n",
       "Bucheon-si          67\n",
       "Yongin-si           52\n",
       "Chilgok-gun         50\n",
       "Andong-si           49\n",
       "Gyeongju-si         44\n",
       "Uiseong-gun         41\n",
       "Gangnam-gu          38\n",
       "Suwon-si            37\n",
       "etc                 36\n",
       "Dongnae-gu          32\n",
       "Guro-gu             30\n",
       "Nam-gu              28\n",
       "Dongdaemun-gu       26\n",
       "Changwon-si         26\n",
       "Gimcheon-si         25\n",
       "Gangseo-gu          25\n",
       "Gwanak-gu           24\n",
       "Songpa-gu           24\n",
       "Gunpo-si            24\n",
       "Eunpyeong-gu        21\n",
       "Dongjak-gu          21\n",
       "Seocho-gu           21\n",
       "Nowon-gu            20\n",
       "Wonju-si            19\n",
       "Yeongdeungpo-gu     19\n",
       "Geochang-gun        19\n",
       "                  ... \n",
       "Jinju-si             3\n",
       "Ulju-gun             3\n",
       "Gunsan-si            3\n",
       "Yangsan-si           3\n",
       "Hongseong-gun        2\n",
       "Jeungpyeong-gun      2\n",
       "Cheongsong-gun       2\n",
       "Goseong-gun          2\n",
       "Suseong-gu           2\n",
       "Sasang-gu            2\n",
       "Mungyeong-si         2\n",
       "Danyang-gun          1\n",
       "Suncheon-si          1\n",
       "Yeosu-si             1\n",
       "Hamyang-gun          1\n",
       "Muan-gun             1\n",
       "Jincheon-gun         1\n",
       "Hwasun-gun           1\n",
       "Dalseong-gun         1\n",
       "Haman-gun            1\n",
       "Taean-gun            1\n",
       "Yeongyang-gun        1\n",
       "Gimje-si             1\n",
       "Gijang-gun           1\n",
       "Iksan-si             1\n",
       "Hanam-si             1\n",
       "Gyeryong-si          1\n",
       "Anseong-si           1\n",
       "Gwangyang-si         1\n",
       "Namhae-gun           1\n",
       "Name: city, Length: 125, dtype: int64"
      ]
     },
     "execution_count": 14,
     "metadata": {},
     "output_type": "execute_result"
    }
   ],
   "source": [
    "# So city is still tricky - let's check the variance to see how wide is it\n",
    "cleaned_df.city.value_counts()"
   ]
  },
  {
   "cell_type": "code",
   "execution_count": 15,
   "metadata": {},
   "outputs": [
    {
     "data": {
      "text/plain": [
       "Gyeongsangbuk-do     925\n",
       "Gyeonggi-do          466\n",
       "Seoul                434\n",
       "Chungcheongnam-do    128\n",
       "Busan                115\n",
       "Gyeongsangnam-do      92\n",
       "Incheon               59\n",
       "Chungcheongbuk-do     44\n",
       "Ulsan                 39\n",
       "Daegu                 21\n",
       "Gangwon-do            19\n",
       "Jeollabuk-do          13\n",
       "Jeollanam-do           9\n",
       "Jeju-do                5\n",
       "Name: province, dtype: int64"
      ]
     },
     "execution_count": 15,
     "metadata": {},
     "output_type": "execute_result"
    }
   ],
   "source": [
    "# Ok. lots of variance. let's try province\n",
    "cleaned_df.province.value_counts()"
   ]
  },
  {
   "cell_type": "code",
   "execution_count": 16,
   "metadata": {},
   "outputs": [
    {
     "name": "stdout",
     "output_type": "stream",
     "text": [
      "<class 'pandas.core.frame.DataFrame'>\n",
      "Int64Index: 2369 entries, 0 to 2768\n",
      "Data columns (total 4 columns):\n",
      "is_dead     2369 non-null int64\n",
      "age         2369 non-null float64\n",
      "province    2369 non-null object\n",
      "is_male     2369 non-null int64\n",
      "dtypes: float64(1), int64(2), object(1)\n",
      "memory usage: 92.5+ KB\n"
     ]
    }
   ],
   "source": [
    "# So we'll drop cities and see if province is interesting \n",
    "cleaned_df = cleaned_df.drop(axis=1, columns=['city'])\n",
    "cleaned_df.info()"
   ]
  },
  {
   "cell_type": "markdown",
   "metadata": {},
   "source": [
    "### Army of the clones\n",
    "* We're still stuck with the same problem, we need numbers and province isn't a number\n",
    "\n",
    "* BUT pandas has a dummy solution"
   ]
  },
  {
   "cell_type": "code",
   "execution_count": 17,
   "metadata": {},
   "outputs": [
    {
     "name": "stdout",
     "output_type": "stream",
     "text": [
      "<class 'pandas.core.frame.DataFrame'>\n",
      "Int64Index: 2369 entries, 0 to 2768\n",
      "Data columns (total 17 columns):\n",
      "is_dead                       2369 non-null int64\n",
      "age                           2369 non-null float64\n",
      "is_male                       2369 non-null int64\n",
      "province_Busan                2369 non-null uint8\n",
      "province_Chungcheongbuk-do    2369 non-null uint8\n",
      "province_Chungcheongnam-do    2369 non-null uint8\n",
      "province_Daegu                2369 non-null uint8\n",
      "province_Gangwon-do           2369 non-null uint8\n",
      "province_Gyeonggi-do          2369 non-null uint8\n",
      "province_Gyeongsangbuk-do     2369 non-null uint8\n",
      "province_Gyeongsangnam-do     2369 non-null uint8\n",
      "province_Incheon              2369 non-null uint8\n",
      "province_Jeju-do              2369 non-null uint8\n",
      "province_Jeollabuk-do         2369 non-null uint8\n",
      "province_Jeollanam-do         2369 non-null uint8\n",
      "province_Seoul                2369 non-null uint8\n",
      "province_Ulsan                2369 non-null uint8\n",
      "dtypes: float64(1), int64(2), uint8(14)\n",
      "memory usage: 106.4 KB\n"
     ]
    }
   ],
   "source": [
    "dataset = pd.get_dummies(cleaned_df,['province'])\n",
    "dataset.info()"
   ]
  },
  {
   "cell_type": "markdown",
   "metadata": {},
   "source": [
    "### What just happened\n",
    "\n",
    "It's called \"one hot enconding\" in ML, get_dummies replaces the \"categorical\" feature we've had of province to a list of columns each a boolean"
   ]
  },
  {
   "cell_type": "code",
   "execution_count": 18,
   "metadata": {},
   "outputs": [
    {
     "name": "stdout",
     "output_type": "stream",
     "text": [
      "139.35294117647058\n"
     ]
    }
   ],
   "source": [
    "# We've now got 17 columns. or \"features\" in ML Lingo\n",
    "# I've been told a at least 50 items per feature, let's see if we have enough\n",
    "\n",
    "print(len(dataset)/len(dataset.columns))"
   ]
  },
  {
   "cell_type": "code",
   "execution_count": 19,
   "metadata": {},
   "outputs": [],
   "source": [
    "# So we're good (I think)"
   ]
  },
  {
   "cell_type": "code",
   "execution_count": 20,
   "metadata": {},
   "outputs": [
    {
     "name": "stdout",
     "output_type": "stream",
     "text": [
      "Index(['age', 'is_male', 'province_Busan', 'province_Chungcheongbuk-do',\n",
      "       'province_Chungcheongnam-do', 'province_Daegu', 'province_Gangwon-do',\n",
      "       'province_Gyeonggi-do', 'province_Gyeongsangbuk-do',\n",
      "       'province_Gyeongsangnam-do', 'province_Incheon', 'province_Jeju-do',\n",
      "       'province_Jeollabuk-do', 'province_Jeollanam-do', 'province_Seoul',\n",
      "       'province_Ulsan'],\n",
      "      dtype='object')\n"
     ]
    }
   ],
   "source": [
    "# X is the data we'll run on, y is the expected results\n",
    "X = dataset.iloc[:,1:].values\n",
    "y = dataset.iloc[:,:1].values\n",
    "feature_names = dataset.iloc[:,1:].columns\n",
    "print(feature_names)"
   ]
  },
  {
   "cell_type": "code",
   "execution_count": 21,
   "metadata": {},
   "outputs": [],
   "source": [
    "X_train, X_test, y_train, y_test = train_test_split(X, y, test_size = .2, random_state=25)"
   ]
  },
  {
   "cell_type": "markdown",
   "metadata": {},
   "source": [
    "* What happened here?\n",
    "\n",
    "* We've split the data and the result (is_dead) to two sets, one we'll use to train a Machine learning model. and the other to test the results"
   ]
  },
  {
   "cell_type": "code",
   "execution_count": 22,
   "metadata": {},
   "outputs": [
    {
     "data": {
      "text/plain": [
       "DecisionTreeClassifier(ccp_alpha=0.0, class_weight=None, criterion='gini',\n",
       "                       max_depth=None, max_features=None, max_leaf_nodes=3,\n",
       "                       min_impurity_decrease=0.0, min_impurity_split=None,\n",
       "                       min_samples_leaf=1, min_samples_split=2,\n",
       "                       min_weight_fraction_leaf=0.0, presort='deprecated',\n",
       "                       random_state=0, splitter='best')"
      ]
     },
     "execution_count": 22,
     "metadata": {},
     "output_type": "execute_result"
    }
   ],
   "source": [
    "estimator = DecisionTreeClassifier(max_leaf_nodes=3, random_state=0)\n",
    "estimator.fit(X_train, y_train)"
   ]
  },
  {
   "cell_type": "code",
   "execution_count": 23,
   "metadata": {},
   "outputs": [],
   "source": [
    "y_pred = estimator.predict(X_test)"
   ]
  },
  {
   "cell_type": "code",
   "execution_count": 24,
   "metadata": {},
   "outputs": [
    {
     "data": {
      "text/plain": [
       "array([[469,   0],\n",
       "       [  5,   0]])"
      ]
     },
     "execution_count": 24,
     "metadata": {},
     "output_type": "execute_result"
    }
   ],
   "source": [
    "from sklearn.metrics import confusion_matrix\n",
    "confusion_matrix = confusion_matrix(y_test, y_pred)\n",
    "confusion_matrix"
   ]
  },
  {
   "cell_type": "markdown",
   "metadata": {},
   "source": [
    "### Confused? this is a confusion matrix\n",
    "\n",
    "```python\n",
    "[True positive, False Positive]\n",
    "[False negative, True Negative]\n",
    "\n",
    "```\n",
    "\n",
    "* A common way to estimate how good a model is. see  this [wikipedia article](https://en.wikipedia.org/wiki/Confusion_matrix)for more explainations\n",
    "\n",
    "* So The diagonal from upper left to lower right are  the good results."
   ]
  },
  {
   "cell_type": "code",
   "execution_count": 27,
   "metadata": {},
   "outputs": [
    {
     "data": {
      "text/plain": [
       "[Text(133.92000000000002, 181.2, 'age <= 70.5\\ngini = 0.027\\nsamples = 1895\\nvalue = [1869, 26]'),\n",
       " Text(66.96000000000001, 108.72, 'gini = 0.013\\nsamples = 1680\\nvalue = [1669, 11]'),\n",
       " Text(200.88000000000002, 108.72, 'is_male <= 0.5\\ngini = 0.13\\nsamples = 215\\nvalue = [200, 15]'),\n",
       " Text(133.92000000000002, 36.23999999999998, 'gini = 0.077\\nsamples = 149\\nvalue = [143, 6]'),\n",
       " Text(267.84000000000003, 36.23999999999998, 'gini = 0.236\\nsamples = 66\\nvalue = [57, 9]')]"
      ]
     },
     "execution_count": 27,
     "metadata": {},
     "output_type": "execute_result"
    },
    {
     "data": {
      "image/png": "[encoded data removed]",
      "text/plain": [
       "<Figure size 432x288 with 1 Axes>"
      ]
     },
     "metadata": {
      "needs_background": "light"
     },
     "output_type": "display_data"
    }
   ],
   "source": [
    "# Lets look at the actual tree\n",
    "\n",
    "from sklearn import tree\n",
    "tree.plot_tree(estimator, feature_names=feature_names)"
   ]
  },
  {
   "cell_type": "markdown",
   "metadata": {},
   "source": [
    "### Where to continue from here\n",
    "* Read more about [decision trees](https://medium.com/greyatom/decision-trees-a-simple-way-to-visualize-a-decision-dc506a403aeb_ \n",
    "* Try other estimators/regressors\n",
    "* Try working with the data in different ways"
   ]
  }
 ],
 "metadata": {
  "kernelspec": {
   "display_name": "Python 3",
   "language": "python",
   "name": "python3"
  },
  "language_info": {
   "codemirror_mode": {
    "name": "ipython",
    "version": 3
   },
   "file_extension": ".py",
   "mimetype": "text/x-python",
   "name": "python",
   "nbconvert_exporter": "python",
   "pygments_lexer": "ipython3",
   "version": "3.6.6"
  }
 },
 "nbformat": 4,
 "nbformat_minor": 2
}
